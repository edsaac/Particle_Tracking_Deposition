{
 "cells": [
  {
   "cell_type": "code",
   "execution_count": 51,
   "metadata": {},
   "outputs": [],
   "source": [
    "%reset -f \n",
    "import numpy as np\n",
    "import matplotlib.pyplot as plt\n",
    "from scipy.interpolate import griddata as intGrid\n",
    "\n",
    "class Particle:\n",
    "    def __init__(self,position,isdead):\n",
    "        self.XY = position;\n",
    "        self.isDed = False;\n",
    "    def move(self,velocity,deltaT):\n",
    "        self.XY = self.XY + velocity*deltaT;\n",
    "    def whereami(self):\n",
    "        return self.XY;\n",
    "    def myX(self):\n",
    "        return self.XY[0];\n",
    "    def myY(self):\n",
    "        return self.XY[1];\n",
    "\n",
    "class Mesh:\n",
    "    def __init__(self,size):\n",
    "        self.XY = np.array([[-size,-size],\\\n",
    "                            [size,-size],\\\n",
    "                            [-size,size],\\\n",
    "                            [size,size]],\\\n",
    "                           dtype=\"float\");\n",
    "        self.Vx = np.array([1,1,1,1],dtype=\"float\");\n",
    "        self.Vy = np.array([0,0,0,0],dtype=\"float\");\n",
    "        \n",
    "def WhereNow(Malla,Pepa):\n",
    "    xy0 = Pepa.whereami();\n",
    "    vx  = intGrid(Malla.XY,Malla.Vx,xy0);\n",
    "    vy  = intGrid(Malla.XY,Malla.Vy,xy0);\n",
    "    return np.array([vx,vy],dtype=\"float\");\n",
    "\n",
    "part1 = Particle(np.array([10,0]),False)\n",
    "mesh1 = Mesh(100)"
   ]
  },
  {
   "cell_type": "code",
   "execution_count": 52,
   "metadata": {},
   "outputs": [
    {
     "name": "stdout",
     "output_type": "stream",
     "text": [
      "[[1.]\n",
      " [0.]]\n"
     ]
    }
   ],
   "source": [
    "padonde = WhereNow(mesh1,part1);\n",
    "print(padonde)"
   ]
  },
  {
   "cell_type": "code",
   "execution_count": null,
   "metadata": {},
   "outputs": [],
   "source": []
  },
  {
   "cell_type": "code",
   "execution_count": 53,
   "metadata": {},
   "outputs": [],
   "source": [
    "part1.move(padonde,1)"
   ]
  },
  {
   "cell_type": "code",
   "execution_count": 54,
   "metadata": {},
   "outputs": [
    {
     "data": {
      "text/plain": [
       "array([[11.,  1.],\n",
       "       [10.,  0.]])"
      ]
     },
     "execution_count": 54,
     "metadata": {},
     "output_type": "execute_result"
    }
   ],
   "source": [
    "part1.whereami()"
   ]
  },
  {
   "cell_type": "code",
   "execution_count": null,
   "metadata": {},
   "outputs": [],
   "source": []
  },
  {
   "cell_type": "code",
   "execution_count": 55,
   "metadata": {},
   "outputs": [
    {
     "data": {
      "image/png": "[encoded data removed]",
      "text/plain": [
       "<Figure size 432x288 with 1 Axes>"
      ]
     },
     "metadata": {
      "needs_background": "light"
     },
     "output_type": "display_data"
    }
   ],
   "source": [
    "for t in range(20):\n",
    "    plt.scatter(part1.myX(),part1.myY(),s=t*10,c='k')\n",
    "    padonde = WhereNow(mesh1,part1);\n",
    "    part1.move(padonde,t)"
   ]
  },
  {
   "cell_type": "code",
   "execution_count": null,
   "metadata": {},
   "outputs": [],
   "source": []
  }
 ],
 "metadata": {
  "kernelspec": {
   "display_name": "Python 3",
   "language": "python",
   "name": "python3"
  },
  "language_info": {
   "codemirror_mode": {
    "name": "ipython",
    "version": 3
   },
   "file_extension": ".py",
   "mimetype": "text/x-python",
   "name": "python",
   "nbconvert_exporter": "python",
   "pygments_lexer": "ipython3",
   "version": "3.6.9"
  }
 },
 "nbformat": 4,
 "nbformat_minor": 4
}
