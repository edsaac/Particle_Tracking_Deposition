{
 "cells": [
  {
   "cell_type": "code",
   "execution_count": 279,
   "metadata": {},
   "outputs": [],
   "source": [
    "%reset -f \n",
    "import numpy as np\n",
    "import matplotlib.pyplot as plt\n",
    "from scipy.interpolate import griddata as intGrid\n",
    "from random import randint\n",
    "\n",
    "class Particle:\n",
    "    def __init__(self,position,isdead=False):\n",
    "        self.XY = np.array(position);\n",
    "        self.isDed = isdead;\n",
    "        return None\n",
    "    \n",
    "    def whereami(self):\n",
    "        return self.XY;\n",
    "    \n",
    "    def wheretogo(self,VelField):\n",
    "        self.v = np.array([float(intGrid(VelField.XY,VelField.Vx,self.XY)),\\\n",
    "                           float(intGrid(VelField.XY,VelField.Vy,self.XY))]);\n",
    "        return self.v\n",
    "    \n",
    "    def move(self,deltaT):\n",
    "        self.XY = self.XY + self.v*deltaT;\n",
    "        return None\n",
    "        \n",
    "        \n",
    "class Swarm:\n",
    "    def __init__(self,nombre,size=0):\n",
    "        self.swarm = list();\n",
    "        self.X     = list();\n",
    "        self.Y     = list();\n",
    "        self.size  = 0;\n",
    "        self.name  = str(nombre);\n",
    "        return None\n",
    "    def appendParticle(self,pepa):\n",
    "        self.swarm.append(pepa);\n",
    "        self.X.append(pepa.XY[0]);\n",
    "        self.Y.append(pepa.XY[1]);\n",
    "        self.size = len(self.swarm);\n",
    "        return None\n",
    "    def moveSwarm(self,VelField,dT):\n",
    "        for pepa in self.swarm:\n",
    "            pepa.wheretogo(VelField);\n",
    "            pepa.move(dT);\n",
    "\n",
    "class Mesh:\n",
    "    def __init__(self,size):\n",
    "        self.XY = np.array([[-size,-size],\\\n",
    "                            [size,-size],\\\n",
    "                            [-size,size],\\\n",
    "                            [size,size]],\\\n",
    "                           dtype=\"float\");\n",
    "        self.Vx = np.array([2,-2,2,-2],dtype=\"float\");\n",
    "        self.Vy = np.array([2,2,-2,-2],dtype=\"float\");\n",
    "        return None"
   ]
  },
  {
   "cell_type": "code",
   "execution_count": 280,
   "metadata": {},
   "outputs": [],
   "source": [
    "part1  = Particle(np.array([99,0]),False);\n"
   ]
  },
  {
   "cell_type": "code",
   "execution_count": 281,
   "metadata": {},
   "outputs": [],
   "source": [
    "mesh1  = Mesh(150)\n",
    "swarm1 = Swarm(nombre=\"Holi\")"
   ]
  },
  {
   "cell_type": "code",
   "execution_count": 286,
   "metadata": {},
   "outputs": [
    {
     "name": "stdout",
     "output_type": "stream",
     "text": [
      "[99.0, 99.0, 99.0, 99.0, 99.0]\n"
     ]
    },
    {
     "data": {
      "image/png": "[encoded data removed]",
      "text/plain": [
       "<Figure size 432x288 with 1 Axes>"
      ]
     },
     "metadata": {
      "needs_background": "light"
     },
     "output_type": "display_data"
    }
   ],
   "source": [
    "dt = 1;\n",
    "del swarm1\n",
    "swarm1 = Swarm(nombre=\"Holi??\")\n",
    "for t in range(5):\n",
    "    if t<11:\n",
    "        #wh = np.array([randint(-99,99),randint(-99,99)])\n",
    "        wh = np.array([99.,99.])\n",
    "        swarm1.appendParticle(Particle(wh,False))\n",
    "    swarm1.moveSwarm(mesh1,5)\n",
    "    plt.scatter(swarm1.X,swarm1.Y,s=10,c='k',alpha=0.1)\n",
    "\n",
    "plt.ylim(-150,150)\n",
    "plt.xlim(-150,150)\n",
    "print(swarm1.X)"
   ]
  },
  {
   "cell_type": "code",
   "execution_count": null,
   "metadata": {},
   "outputs": [],
   "source": []
  }
 ],
 "metadata": {
  "kernelspec": {
   "display_name": "Python 3",
   "language": "python",
   "name": "python3"
  },
  "language_info": {
   "codemirror_mode": {
    "name": "ipython",
    "version": 3
   },
   "file_extension": ".py",
   "mimetype": "text/x-python",
   "name": "python",
   "nbconvert_exporter": "python",
   "pygments_lexer": "ipython3",
   "version": "3.6.9"
  }
 },
 "nbformat": 4,
 "nbformat_minor": 4
}
